{
 "cells": [
  {
   "cell_type": "code",
   "execution_count": null,
   "id": "beba82a2",
   "metadata": {},
   "outputs": [],
   "source": [
    "'''Market depth - cryptocurrencies (KuCoin)'''"
   ]
  },
  {
   "cell_type": "code",
   "execution_count": null,
   "id": "5be9cfbc",
   "metadata": {},
   "outputs": [],
   "source": [
    "#Neccessary library for API commands"
   ]
  },
  {
   "cell_type": "code",
   "execution_count": null,
   "id": "35d1ec1b",
   "metadata": {},
   "outputs": [],
   "source": [
    "pip install kucoin-python  "
   ]
  },
  {
   "cell_type": "code",
   "execution_count": null,
   "id": "9f216a42",
   "metadata": {},
   "outputs": [],
   "source": [
    "from kucoin.market import market\n",
    "import os\n",
    "import pandas as pd\n",
    "import numpy as np\n",
    "api_key = 'key'\n",
    "api_secret = 'secret'\n",
    "api_passphrase = 'passphrase'"
   ]
  },
  {
   "cell_type": "code",
   "execution_count": null,
   "id": "571c496c",
   "metadata": {},
   "outputs": [],
   "source": [
    "market = market.MarketData(key = api_key, secret = api_secret, passphrase = api_passphrase)"
   ]
  },
  {
   "cell_type": "code",
   "execution_count": null,
   "id": "fb903a05",
   "metadata": {},
   "outputs": [],
   "source": [
    "# first im gonna try to an operation with single coin"
   ]
  },
  {
   "cell_type": "code",
   "execution_count": null,
   "id": "015af69f",
   "metadata": {},
   "outputs": [],
   "source": [
    "order_book = market.get_aggregated_orderv3('BTC-USDT')  # API documentation\n"
   ]
  },
  {
   "cell_type": "code",
   "execution_count": null,
   "id": "21df4d7b",
   "metadata": {},
   "outputs": [],
   "source": [
    "order_book.keys()"
   ]
  },
  {
   "cell_type": "code",
   "execution_count": null,
   "id": "2310e3d2",
   "metadata": {},
   "outputs": [],
   "source": [
    "type(order_book)"
   ]
  },
  {
   "cell_type": "code",
   "execution_count": null,
   "id": "4e4baf7e",
   "metadata": {},
   "outputs": [],
   "source": [
    "# 'asks' are neccessary for further operation"
   ]
  },
  {
   "cell_type": "code",
   "execution_count": null,
   "id": "0053734c",
   "metadata": {},
   "outputs": [],
   "source": [
    "ask_btc = order_book['asks']"
   ]
  },
  {
   "cell_type": "code",
   "execution_count": null,
   "id": "082b3556",
   "metadata": {},
   "outputs": [],
   "source": [
    "ask_btc[:5]"
   ]
  },
  {
   "cell_type": "code",
   "execution_count": null,
   "id": "2c841652",
   "metadata": {},
   "outputs": [],
   "source": [
    "type(ask_btc)"
   ]
  },
  {
   "cell_type": "code",
   "execution_count": null,
   "id": "c9e78de6",
   "metadata": {},
   "outputs": [],
   "source": [
    "type(ask_btc[0][1])"
   ]
  },
  {
   "cell_type": "code",
   "execution_count": null,
   "id": "d99f94bd",
   "metadata": {},
   "outputs": [],
   "source": [
    "btc_df = pd.DataFrame(ask_btc, columns = ['price','amount'])  # df for adding column 'price'*'amount'"
   ]
  },
  {
   "cell_type": "code",
   "execution_count": null,
   "id": "18ede8e1",
   "metadata": {},
   "outputs": [],
   "source": [
    "btc_df.head()"
   ]
  },
  {
   "cell_type": "code",
   "execution_count": null,
   "id": "ee50c547",
   "metadata": {},
   "outputs": [],
   "source": [
    "btc_df['price'] = btc_df['price'].astype(float)  # we need floats for multiple columns 'price'*'amount'\n",
    "btc_df['amount'] = btc_df['amount'].astype(float) "
   ]
  },
  {
   "cell_type": "code",
   "execution_count": null,
   "id": "f958ba01",
   "metadata": {},
   "outputs": [],
   "source": [
    "type(btc_df['price'][0])"
   ]
  },
  {
   "cell_type": "code",
   "execution_count": null,
   "id": "fff96230",
   "metadata": {},
   "outputs": [],
   "source": [
    "type(btc_df['amount'][0])"
   ]
  },
  {
   "cell_type": "code",
   "execution_count": null,
   "id": "6dada3af",
   "metadata": {},
   "outputs": [],
   "source": [
    "btc_df['sum'] = btc_df['price']*btc_df['amount'] "
   ]
  },
  {
   "cell_type": "code",
   "execution_count": null,
   "id": "5fe99652",
   "metadata": {},
   "outputs": [],
   "source": [
    "btc_df.drop('ask', axis = 'columns', inplace = True)"
   ]
  },
  {
   "cell_type": "code",
   "execution_count": null,
   "id": "4d0ef2eb",
   "metadata": {},
   "outputs": [],
   "source": [
    "btc_df.head()"
   ]
  },
  {
   "cell_type": "code",
   "execution_count": null,
   "id": "409c0fed",
   "metadata": {},
   "outputs": [],
   "source": [
    "type(btc_df['sum'][0])"
   ]
  },
  {
   "cell_type": "code",
   "execution_count": null,
   "id": "1e021f54",
   "metadata": {},
   "outputs": [],
   "source": [
    "btc_list = btc_df.values.tolist() #change to list for faster calculations"
   ]
  },
  {
   "cell_type": "code",
   "execution_count": null,
   "id": "7ec08ea5",
   "metadata": {},
   "outputs": [],
   "source": [
    "btc_list[:5]"
   ]
  },
  {
   "cell_type": "code",
   "execution_count": null,
   "id": "0c9edad3",
   "metadata": {},
   "outputs": [],
   "source": [
    "len(btc_list)"
   ]
  },
  {
   "cell_type": "code",
   "execution_count": null,
   "id": "ff865076",
   "metadata": {},
   "outputs": [],
   "source": [
    "# I want to check, on which order through orderbook we are out of money - it means, that we gonna buy order after order till we spent whole 50K - with this way we gonna find a future price"
   ]
  },
  {
   "cell_type": "code",
   "execution_count": null,
   "id": "3afe96d8",
   "metadata": {},
   "outputs": [],
   "source": [
    "actual_price_btc = btc_list[0][0]\n",
    "cash = 2000000\n",
    "result = []\n",
    "for i in range(len(btc_list)):\n",
    "    b = cash - btc_list[i][2]\n",
    "    cash = b\n",
    "    if cash <=0:\n",
    "        result.append([actual_price_btc, btc_list[i][0], (btc_list[i][0]/actual_price_btc)/100])\n",
    "        break"
   ]
  },
  {
   "cell_type": "code",
   "execution_count": null,
   "id": "e4fc62f4",
   "metadata": {},
   "outputs": [],
   "source": [
    "print(result)"
   ]
  },
  {
   "cell_type": "code",
   "execution_count": null,
   "id": "990958a9",
   "metadata": {},
   "outputs": [],
   "source": [
    "####### Now we gonna do the same operation for rest coins "
   ]
  },
  {
   "cell_type": "code",
   "execution_count": null,
   "id": "a31d38ac",
   "metadata": {},
   "outputs": [],
   "source": [
    "from kucoin.client import Market"
   ]
  },
  {
   "cell_type": "code",
   "execution_count": null,
   "id": "f045a98f",
   "metadata": {},
   "outputs": [],
   "source": [
    "client = Market(url='https://api.kucoin.com')  # API documentation"
   ]
  },
  {
   "cell_type": "code",
   "execution_count": null,
   "id": "55c43dae",
   "metadata": {},
   "outputs": [],
   "source": [
    "tickers = client.get_all_tickers()  #we need all tickers for make a list with USDT tickers"
   ]
  },
  {
   "cell_type": "code",
   "execution_count": null,
   "id": "6488372d",
   "metadata": {},
   "outputs": [],
   "source": [
    "tickers.keys()"
   ]
  },
  {
   "cell_type": "code",
   "execution_count": null,
   "id": "10091124",
   "metadata": {},
   "outputs": [],
   "source": [
    "tickers = pd.DataFrame(tickers['ticker'])"
   ]
  },
  {
   "cell_type": "code",
   "execution_count": null,
   "id": "3ac7b353",
   "metadata": {},
   "outputs": [],
   "source": [
    "tickers.head()"
   ]
  },
  {
   "cell_type": "code",
   "execution_count": null,
   "id": "1e408619",
   "metadata": {},
   "outputs": [],
   "source": [
    "tickers.set_index('symbol', inplace=True)"
   ]
  },
  {
   "cell_type": "code",
   "execution_count": null,
   "id": "4edc3cfe",
   "metadata": {},
   "outputs": [],
   "source": [
    "tickers.head()"
   ]
  },
  {
   "cell_type": "code",
   "execution_count": null,
   "id": "af674279",
   "metadata": {},
   "outputs": [],
   "source": [
    "list_tickers = list(tickers.index.values)"
   ]
  },
  {
   "cell_type": "code",
   "execution_count": null,
   "id": "112a4eb1",
   "metadata": {},
   "outputs": [],
   "source": [
    "list_tickers[:5]"
   ]
  },
  {
   "cell_type": "code",
   "execution_count": null,
   "id": "402b2790",
   "metadata": {},
   "outputs": [],
   "source": [
    "usdt_tickers = []\n",
    "for i in list_tickers:\n",
    "    if 'USDT' in i:\n",
    "        usdt_tickers.append(i)    # only USDT tickers for further operations"
   ]
  },
  {
   "cell_type": "code",
   "execution_count": null,
   "id": "b25fd620",
   "metadata": {},
   "outputs": [],
   "source": [
    "usdt_tickers[:10]"
   ]
  },
  {
   "cell_type": "code",
   "execution_count": null,
   "id": "cebc6ebb",
   "metadata": {},
   "outputs": [],
   "source": [
    "len(usdt_tickers)"
   ]
  },
  {
   "cell_type": "code",
   "execution_count": null,
   "id": "78747446",
   "metadata": {},
   "outputs": [],
   "source": [
    "orderbook_usdt = []\n",
    "for i in usdt_tickers:\n",
    "    orderbook_usdt.append(market.get_aggregated_orderv3(i))"
   ]
  },
  {
   "cell_type": "code",
   "execution_count": null,
   "id": "6ac9c764",
   "metadata": {},
   "outputs": [],
   "source": [
    "len(orderbook_usdt)"
   ]
  },
  {
   "cell_type": "code",
   "execution_count": null,
   "id": "a1126870",
   "metadata": {},
   "outputs": [],
   "source": [
    "orderbook_usdt = orderbook_usdt[:-1]"
   ]
  },
  {
   "cell_type": "code",
   "execution_count": null,
   "id": "db591ba8",
   "metadata": {},
   "outputs": [],
   "source": [
    "len(orderbook_usdt)"
   ]
  },
  {
   "cell_type": "code",
   "execution_count": null,
   "id": "7e45abc2",
   "metadata": {},
   "outputs": [],
   "source": [
    "orderbook_usdt[:1]"
   ]
  },
  {
   "cell_type": "code",
   "execution_count": null,
   "id": "76136ae1",
   "metadata": {},
   "outputs": [],
   "source": [
    "orderbook_usdt_asks = []\n",
    "for i in orderbook_usdt:\n",
    "       orderbook_usdt_asks.append(i['asks'])"
   ]
  },
  {
   "cell_type": "code",
   "execution_count": null,
   "id": "be12bf27",
   "metadata": {},
   "outputs": [],
   "source": [
    "# convert every single orderbook to seperated df"
   ]
  },
  {
   "cell_type": "code",
   "execution_count": null,
   "id": "0d06335c",
   "metadata": {},
   "outputs": [],
   "source": [
    "orderbook_usdt_df = []\n",
    "for i in orderbook_usdt_asks:\n",
    "    a = pd.DataFrame(i, columns = ['price','amount'])\n",
    "    orderbook_usdt_df.append(a)"
   ]
  },
  {
   "cell_type": "code",
   "execution_count": null,
   "id": "899792e9",
   "metadata": {},
   "outputs": [],
   "source": [
    "# whole strings to floats for 'sum' column"
   ]
  },
  {
   "cell_type": "code",
   "execution_count": null,
   "id": "6bf9cbaa",
   "metadata": {},
   "outputs": [],
   "source": [
    "for i in orderbook_usdt_df:\n",
    "    i['price'] = i['price'].astype(float)\n",
    "    i['amount'] = i['amount'].astype(float)"
   ]
  },
  {
   "cell_type": "code",
   "execution_count": null,
   "id": "703debd2",
   "metadata": {},
   "outputs": [],
   "source": [
    "type(orderbook_usdt_df[0]['price'][0])"
   ]
  },
  {
   "cell_type": "code",
   "execution_count": null,
   "id": "bcaee4a2",
   "metadata": {},
   "outputs": [],
   "source": [
    "#adding column 'sum' to every coins df"
   ]
  },
  {
   "cell_type": "code",
   "execution_count": null,
   "id": "e642b1a0",
   "metadata": {},
   "outputs": [],
   "source": [
    "for i in orderbook_usdt_df:\n",
    "    i['sum'] = i['price']*i['amount']"
   ]
  },
  {
   "cell_type": "code",
   "execution_count": null,
   "id": "78d4d177",
   "metadata": {},
   "outputs": [],
   "source": [
    "# moving back all to list  "
   ]
  },
  {
   "cell_type": "code",
   "execution_count": null,
   "id": "281db3e9",
   "metadata": {},
   "outputs": [],
   "source": [
    "orderbook_usdt_asks_list = []\n",
    "for i in orderbook_usdt_df:\n",
    "    a = i.values.tolist()\n",
    "    orderbook_usdt_asks_list.append(a)"
   ]
  },
  {
   "cell_type": "code",
   "execution_count": null,
   "id": "05a674c5",
   "metadata": {},
   "outputs": [],
   "source": [
    "# what happen to every coin after putting 50k $ immadiatelely"
   ]
  },
  {
   "cell_type": "code",
   "execution_count": null,
   "id": "7ab5f83f",
   "metadata": {},
   "outputs": [],
   "source": [
    "final_list = []\n",
    "for i in orderbook_usdt_asks_list:\n",
    "    cash = 50000\n",
    "    actual_price = i[0][0]\n",
    "    for j in i:\n",
    "        b = cash - j[2]\n",
    "        cash = b\n",
    "        if cash <=0:\n",
    "            final_list.append([actual_price,j[0],(j[0]/actual_price)*100])\n",
    "            break"
   ]
  },
  {
   "cell_type": "code",
   "execution_count": null,
   "id": "06b243c9",
   "metadata": {},
   "outputs": [],
   "source": [
    "final_list"
   ]
  },
  {
   "cell_type": "code",
   "execution_count": null,
   "id": "d318a4d2",
   "metadata": {},
   "outputs": [],
   "source": [
    "usdt_tickers1 = usdt_tickers[:27]"
   ]
  },
  {
   "cell_type": "code",
   "execution_count": null,
   "id": "cfa9650d",
   "metadata": {},
   "outputs": [],
   "source": [
    "len(usdt_tickers1)"
   ]
  },
  {
   "cell_type": "code",
   "execution_count": null,
   "id": "b17cdc73",
   "metadata": {},
   "outputs": [],
   "source": [
    "final_df = pd.DataFrame(final_list, columns = ['first_price','final_price','% change'])"
   ]
  },
  {
   "cell_type": "code",
   "execution_count": null,
   "id": "fe0842d3",
   "metadata": {},
   "outputs": [],
   "source": [
    "final_df['% change'] = final_df['% change']/100"
   ]
  },
  {
   "cell_type": "code",
   "execution_count": null,
   "id": "3202e808",
   "metadata": {},
   "outputs": [],
   "source": [
    "final_df['Coin'] = [i for i in usdt_tickers1]"
   ]
  },
  {
   "cell_type": "code",
   "execution_count": null,
   "id": "40388a74",
   "metadata": {},
   "outputs": [],
   "source": [
    "final_df.sort_values(by= '% change', ascending = False)"
   ]
  },
  {
   "cell_type": "code",
   "execution_count": null,
   "id": "bc962053",
   "metadata": {},
   "outputs": [],
   "source": []
  },
  {
   "cell_type": "code",
   "execution_count": null,
   "id": "03f9a023",
   "metadata": {},
   "outputs": [],
   "source": []
  },
  {
   "cell_type": "code",
   "execution_count": null,
   "id": "3e32d2cf",
   "metadata": {},
   "outputs": [],
   "source": []
  },
  {
   "cell_type": "code",
   "execution_count": null,
   "id": "6640d2c6",
   "metadata": {},
   "outputs": [],
   "source": []
  },
  {
   "cell_type": "code",
   "execution_count": null,
   "id": "20b8f7d0",
   "metadata": {},
   "outputs": [],
   "source": []
  },
  {
   "cell_type": "code",
   "execution_count": null,
   "id": "ab71793e",
   "metadata": {},
   "outputs": [],
   "source": []
  },
  {
   "cell_type": "code",
   "execution_count": null,
   "id": "919f73fd",
   "metadata": {},
   "outputs": [],
   "source": []
  }
 ],
 "metadata": {
  "kernelspec": {
   "display_name": "Python 3 (ipykernel)",
   "language": "python",
   "name": "python3"
  },
  "language_info": {
   "codemirror_mode": {
    "name": "ipython",
    "version": 3
   },
   "file_extension": ".py",
   "mimetype": "text/x-python",
   "name": "python",
   "nbconvert_exporter": "python",
   "pygments_lexer": "ipython3",
   "version": "3.9.7"
  }
 },
 "nbformat": 4,
 "nbformat_minor": 5
}
